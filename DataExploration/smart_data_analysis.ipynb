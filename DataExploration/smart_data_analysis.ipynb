{
 "cells": [
  {
   "cell_type": "code",
   "execution_count": 1,
   "metadata": {},
   "outputs": [],
   "source": [
    "import pandas as pd\n",
    "import numpy as np\n",
    "import json"
   ]
  },
  {
   "cell_type": "code",
   "execution_count": 2,
   "metadata": {},
   "outputs": [
    {
     "data": {
      "text/plain": [
       "(17776, 9)"
      ]
     },
     "execution_count": 2,
     "metadata": {},
     "output_type": "execute_result"
    }
   ],
   "source": [
    "with open('properties.json') as p:\n",
    "    properties_json = json.load(p)\n",
    "properties_df = pd.json_normalize(properties_json)\n",
    "properties_df.shape"
   ]
  },
  {
   "cell_type": "code",
   "execution_count": 3,
   "metadata": {},
   "outputs": [
    {
     "data": {
      "text/plain": [
       "(17767, 4)"
      ]
     },
     "execution_count": 3,
     "metadata": {},
     "output_type": "execute_result"
    }
   ],
   "source": [
    "with open('mgmt.json') as m:\n",
    "    mgmt_json = json.load(m)\n",
    "mgmt_df = pd.json_normalize(mgmt_json)\n",
    "mgmt_df.shape"
   ]
  },
  {
   "cell_type": "code",
   "execution_count": 7,
   "metadata": {},
   "outputs": [
    {
     "data": {
      "text/html": [
       "<div>\n",
       "<style scoped>\n",
       "    .dataframe tbody tr th:only-of-type {\n",
       "        vertical-align: middle;\n",
       "    }\n",
       "\n",
       "    .dataframe tbody tr th {\n",
       "        vertical-align: top;\n",
       "    }\n",
       "\n",
       "    .dataframe thead th {\n",
       "        text-align: right;\n",
       "    }\n",
       "</style>\n",
       "<table border=\"1\" class=\"dataframe\">\n",
       "  <thead>\n",
       "    <tr style=\"text-align: right;\">\n",
       "      <th></th>\n",
       "      <th>mgmt.mgmtID</th>\n",
       "      <th>mgmt.name</th>\n",
       "      <th>mgmt.market</th>\n",
       "      <th>mgmt.state</th>\n",
       "    </tr>\n",
       "  </thead>\n",
       "  <tbody>\n",
       "    <tr>\n",
       "      <th>0</th>\n",
       "      <td>27918</td>\n",
       "      <td>Essex Property Trust AKA Essex Apartment Homes</td>\n",
       "      <td>San Francisco</td>\n",
       "      <td>CA</td>\n",
       "    </tr>\n",
       "    <tr>\n",
       "      <th>1</th>\n",
       "      <td>24736</td>\n",
       "      <td>Privately Owned and Managed</td>\n",
       "      <td>San Francisco</td>\n",
       "      <td>CA</td>\n",
       "    </tr>\n",
       "    <tr>\n",
       "      <th>2</th>\n",
       "      <td>29079</td>\n",
       "      <td>East Bay Asian Local Development Corp. (EBALDC)</td>\n",
       "      <td>San Francisco</td>\n",
       "      <td>CA</td>\n",
       "    </tr>\n",
       "    <tr>\n",
       "      <th>3</th>\n",
       "      <td>28444</td>\n",
       "      <td>VPM Management Inc.</td>\n",
       "      <td>San Francisco</td>\n",
       "      <td>CA</td>\n",
       "    </tr>\n",
       "    <tr>\n",
       "      <th>4</th>\n",
       "      <td>28177</td>\n",
       "      <td>The John Stewart Company</td>\n",
       "      <td>San Francisco</td>\n",
       "      <td>CA</td>\n",
       "    </tr>\n",
       "  </tbody>\n",
       "</table>\n",
       "</div>"
      ],
      "text/plain": [
       "   mgmt.mgmtID                                        mgmt.name  \\\n",
       "0        27918   Essex Property Trust AKA Essex Apartment Homes   \n",
       "1        24736                      Privately Owned and Managed   \n",
       "2        29079  East Bay Asian Local Development Corp. (EBALDC)   \n",
       "3        28444                              VPM Management Inc.   \n",
       "4        28177                         The John Stewart Company   \n",
       "\n",
       "     mgmt.market mgmt.state  \n",
       "0  San Francisco         CA  \n",
       "1  San Francisco         CA  \n",
       "2  San Francisco         CA  \n",
       "3  San Francisco         CA  \n",
       "4  San Francisco         CA  "
      ]
     },
     "metadata": {},
     "output_type": "display_data"
    }
   ],
   "source": [
    "display(mgmt_df.head(5))\n"
   ]
  },
  {
   "cell_type": "code",
   "execution_count": 25,
   "metadata": {},
   "outputs": [
    {
     "name": "stdout",
     "output_type": "stream",
     "text": [
      "(1782,)\n"
     ]
    },
    {
     "data": {
      "text/plain": [
       "mgmt.name\n",
       "Privately Owned and Managed    2504\n",
       "Greystar                        589\n",
       "FPI Management                  297\n",
       "Lincoln Property Company        260\n",
       "Alliance Residential            221\n",
       "                               ... \n",
       "NE Management                     1\n",
       "NFI Management                    1\n",
       "NL Johnson Management Inc         1\n",
       "Calton Properties                 1\n",
       "163rd Avenue Investors LLC        1\n",
       "Length: 1782, dtype: int64"
      ]
     },
     "execution_count": 25,
     "metadata": {},
     "output_type": "execute_result"
    }
   ],
   "source": [
    "print (mgmt_df.value_counts(\"mgmt.name\").shape)\n",
    "mgmt_df.value_counts(\"mgmt.name\")"
   ]
  },
  {
   "cell_type": "code",
   "execution_count": 11,
   "metadata": {},
   "outputs": [
    {
     "name": "stdout",
     "output_type": "stream",
     "text": [
      "7116\n"
     ]
    },
    {
     "data": {
      "text/html": [
       "<div>\n",
       "<style scoped>\n",
       "    .dataframe tbody tr th:only-of-type {\n",
       "        vertical-align: middle;\n",
       "    }\n",
       "\n",
       "    .dataframe tbody tr th {\n",
       "        vertical-align: top;\n",
       "    }\n",
       "\n",
       "    .dataframe thead th {\n",
       "        text-align: right;\n",
       "    }\n",
       "</style>\n",
       "<table border=\"1\" class=\"dataframe\">\n",
       "  <thead>\n",
       "    <tr style=\"text-align: right;\">\n",
       "      <th></th>\n",
       "      <th>mgmt.name</th>\n",
       "      <th>mgmt.market</th>\n",
       "      <th>mgmt.state</th>\n",
       "      <th>mgmt.count</th>\n",
       "    </tr>\n",
       "    <tr>\n",
       "      <th>mgmt.mgmtID</th>\n",
       "      <th></th>\n",
       "      <th></th>\n",
       "      <th></th>\n",
       "      <th></th>\n",
       "    </tr>\n",
       "  </thead>\n",
       "  <tbody>\n",
       "    <tr>\n",
       "      <th>24736</th>\n",
       "      <td>Privately Owned and Managed</td>\n",
       "      <td>San Francisco</td>\n",
       "      <td>CA</td>\n",
       "      <td>2504</td>\n",
       "    </tr>\n",
       "    <tr>\n",
       "      <th>24136</th>\n",
       "      <td>Greystar</td>\n",
       "      <td>San Francisco</td>\n",
       "      <td>CA</td>\n",
       "      <td>589</td>\n",
       "    </tr>\n",
       "    <tr>\n",
       "      <th>26831</th>\n",
       "      <td>FPI Management</td>\n",
       "      <td>San Francisco</td>\n",
       "      <td>CA</td>\n",
       "      <td>297</td>\n",
       "    </tr>\n",
       "    <tr>\n",
       "      <th>25089</th>\n",
       "      <td>Lincoln Property Company</td>\n",
       "      <td>Los Angeles</td>\n",
       "      <td>CA</td>\n",
       "      <td>260</td>\n",
       "    </tr>\n",
       "    <tr>\n",
       "      <th>24984</th>\n",
       "      <td>Alliance Residential</td>\n",
       "      <td>San Francisco</td>\n",
       "      <td>CA</td>\n",
       "      <td>221</td>\n",
       "    </tr>\n",
       "  </tbody>\n",
       "</table>\n",
       "</div>"
      ],
      "text/plain": [
       "                               mgmt.name    mgmt.market mgmt.state  mgmt.count\n",
       "mgmt.mgmtID                                                                   \n",
       "24736        Privately Owned and Managed  San Francisco         CA        2504\n",
       "24136                           Greystar  San Francisco         CA         589\n",
       "26831                     FPI Management  San Francisco         CA         297\n",
       "25089           Lincoln Property Company    Los Angeles         CA         260\n",
       "24984               Alliance Residential  San Francisco         CA         221"
      ]
     },
     "execution_count": 11,
     "metadata": {},
     "output_type": "execute_result"
    }
   ],
   "source": [
    "management_ID_groups = mgmt_df.groupby(\"mgmt.mgmtID\")\n",
    "management_IDs = management_ID_groups.first()\n",
    "management_IDs[\"mgmt.count\"] = management_ID_groups.size()\n",
    "print(management_IDs.size)\n",
    "management_IDs.sort_values(\"mgmt.count\", ascending= False).head(5)"
   ]
  },
  {
   "cell_type": "code",
   "execution_count": 15,
   "metadata": {},
   "outputs": [
    {
     "name": "stdout",
     "output_type": "stream",
     "text": [
      "6978\n"
     ]
    },
    {
     "data": {
      "text/html": [
       "<div>\n",
       "<style scoped>\n",
       "    .dataframe tbody tr th:only-of-type {\n",
       "        vertical-align: middle;\n",
       "    }\n",
       "\n",
       "    .dataframe tbody tr th {\n",
       "        vertical-align: top;\n",
       "    }\n",
       "\n",
       "    .dataframe thead th {\n",
       "        text-align: right;\n",
       "    }\n",
       "</style>\n",
       "<table border=\"1\" class=\"dataframe\">\n",
       "  <thead>\n",
       "    <tr style=\"text-align: right;\">\n",
       "      <th></th>\n",
       "      <th></th>\n",
       "      <th></th>\n",
       "      <th>mgmt.name</th>\n",
       "      <th>mgmt.count</th>\n",
       "    </tr>\n",
       "    <tr>\n",
       "      <th>mgmt.mgmtID</th>\n",
       "      <th>mgmt.market</th>\n",
       "      <th>mgmt.state</th>\n",
       "      <th></th>\n",
       "      <th></th>\n",
       "    </tr>\n",
       "  </thead>\n",
       "  <tbody>\n",
       "    <tr>\n",
       "      <th rowspan=\"8\" valign=\"top\">24736</th>\n",
       "      <th>Los Angeles</th>\n",
       "      <th>CA</th>\n",
       "      <td>Privately Owned and Managed</td>\n",
       "      <td>465</td>\n",
       "    </tr>\n",
       "    <tr>\n",
       "      <th>San Diego</th>\n",
       "      <th>CA</th>\n",
       "      <td>Privately Owned and Managed</td>\n",
       "      <td>317</td>\n",
       "    </tr>\n",
       "    <tr>\n",
       "      <th>San Francisco</th>\n",
       "      <th>CA</th>\n",
       "      <td>Privately Owned and Managed</td>\n",
       "      <td>285</td>\n",
       "    </tr>\n",
       "    <tr>\n",
       "      <th>Houston</th>\n",
       "      <th>TX</th>\n",
       "      <td>Privately Owned and Managed</td>\n",
       "      <td>275</td>\n",
       "    </tr>\n",
       "    <tr>\n",
       "      <th>DFW</th>\n",
       "      <th>TX</th>\n",
       "      <td>Privately Owned and Managed</td>\n",
       "      <td>226</td>\n",
       "    </tr>\n",
       "    <tr>\n",
       "      <th>Sacramento</th>\n",
       "      <th>CA</th>\n",
       "      <td>Privately Owned and Managed</td>\n",
       "      <td>194</td>\n",
       "    </tr>\n",
       "    <tr>\n",
       "      <th>Orange County</th>\n",
       "      <th>CA</th>\n",
       "      <td>Privately Owned and Managed</td>\n",
       "      <td>191</td>\n",
       "    </tr>\n",
       "    <tr>\n",
       "      <th>Inland Empire</th>\n",
       "      <th>CA</th>\n",
       "      <td>Privately Owned and Managed</td>\n",
       "      <td>141</td>\n",
       "    </tr>\n",
       "    <tr>\n",
       "      <th>25089</th>\n",
       "      <th>DFW</th>\n",
       "      <th>TX</th>\n",
       "      <td>Lincoln Property Company</td>\n",
       "      <td>135</td>\n",
       "    </tr>\n",
       "    <tr>\n",
       "      <th>24136</th>\n",
       "      <th>Houston</th>\n",
       "      <th>TX</th>\n",
       "      <td>Greystar</td>\n",
       "      <td>130</td>\n",
       "    </tr>\n",
       "    <tr>\n",
       "      <th>24736</th>\n",
       "      <th>Atlanta</th>\n",
       "      <th>GA</th>\n",
       "      <td>Privately Owned and Managed</td>\n",
       "      <td>121</td>\n",
       "    </tr>\n",
       "    <tr>\n",
       "      <th>28129</th>\n",
       "      <th>Orange County</th>\n",
       "      <th>CA</th>\n",
       "      <td>Irvine Company Apartment Communities</td>\n",
       "      <td>97</td>\n",
       "    </tr>\n",
       "    <tr>\n",
       "      <th rowspan=\"2\" valign=\"top\">26831</th>\n",
       "      <th>Sacramento</th>\n",
       "      <th>CA</th>\n",
       "      <td>FPI Management</td>\n",
       "      <td>94</td>\n",
       "    </tr>\n",
       "    <tr>\n",
       "      <th>San Francisco</th>\n",
       "      <th>CA</th>\n",
       "      <td>FPI Management</td>\n",
       "      <td>93</td>\n",
       "    </tr>\n",
       "    <tr>\n",
       "      <th>27305</th>\n",
       "      <th>Orange County</th>\n",
       "      <th>CA</th>\n",
       "      <td>Western National Property Management AKA Weste...</td>\n",
       "      <td>87</td>\n",
       "    </tr>\n",
       "    <tr>\n",
       "      <th>24136</th>\n",
       "      <th>DFW</th>\n",
       "      <th>TX</th>\n",
       "      <td>Greystar</td>\n",
       "      <td>87</td>\n",
       "    </tr>\n",
       "    <tr>\n",
       "      <th>27918</th>\n",
       "      <th>San Francisco</th>\n",
       "      <th>CA</th>\n",
       "      <td>Essex Property Trust AKA Essex Apartment Homes</td>\n",
       "      <td>80</td>\n",
       "    </tr>\n",
       "    <tr>\n",
       "      <th>24088</th>\n",
       "      <th>DFW</th>\n",
       "      <th>TX</th>\n",
       "      <td>Wehner Multifamily LLC</td>\n",
       "      <td>79</td>\n",
       "    </tr>\n",
       "    <tr>\n",
       "      <th>24136</th>\n",
       "      <th>San Francisco</th>\n",
       "      <th>CA</th>\n",
       "      <td>Greystar</td>\n",
       "      <td>69</td>\n",
       "    </tr>\n",
       "    <tr>\n",
       "      <th>24736</th>\n",
       "      <th>San Antonio</th>\n",
       "      <th>TX</th>\n",
       "      <td>Privately Owned and Managed</td>\n",
       "      <td>66</td>\n",
       "    </tr>\n",
       "  </tbody>\n",
       "</table>\n",
       "</div>"
      ],
      "text/plain": [
       "                                                                              mgmt.name  \\\n",
       "mgmt.mgmtID mgmt.market   mgmt.state                                                      \n",
       "24736       Los Angeles   CA                                Privately Owned and Managed   \n",
       "            San Diego     CA                                Privately Owned and Managed   \n",
       "            San Francisco CA                                Privately Owned and Managed   \n",
       "            Houston       TX                                Privately Owned and Managed   \n",
       "            DFW           TX                                Privately Owned and Managed   \n",
       "            Sacramento    CA                                Privately Owned and Managed   \n",
       "            Orange County CA                                Privately Owned and Managed   \n",
       "            Inland Empire CA                                Privately Owned and Managed   \n",
       "25089       DFW           TX                                   Lincoln Property Company   \n",
       "24136       Houston       TX                                                   Greystar   \n",
       "24736       Atlanta       GA                                Privately Owned and Managed   \n",
       "28129       Orange County CA                       Irvine Company Apartment Communities   \n",
       "26831       Sacramento    CA                                             FPI Management   \n",
       "            San Francisco CA                                             FPI Management   \n",
       "27305       Orange County CA          Western National Property Management AKA Weste...   \n",
       "24136       DFW           TX                                                   Greystar   \n",
       "27918       San Francisco CA             Essex Property Trust AKA Essex Apartment Homes   \n",
       "24088       DFW           TX                                     Wehner Multifamily LLC   \n",
       "24136       San Francisco CA                                                   Greystar   \n",
       "24736       San Antonio   TX                                Privately Owned and Managed   \n",
       "\n",
       "                                      mgmt.count  \n",
       "mgmt.mgmtID mgmt.market   mgmt.state              \n",
       "24736       Los Angeles   CA                 465  \n",
       "            San Diego     CA                 317  \n",
       "            San Francisco CA                 285  \n",
       "            Houston       TX                 275  \n",
       "            DFW           TX                 226  \n",
       "            Sacramento    CA                 194  \n",
       "            Orange County CA                 191  \n",
       "            Inland Empire CA                 141  \n",
       "25089       DFW           TX                 135  \n",
       "24136       Houston       TX                 130  \n",
       "24736       Atlanta       GA                 121  \n",
       "28129       Orange County CA                  97  \n",
       "26831       Sacramento    CA                  94  \n",
       "            San Francisco CA                  93  \n",
       "27305       Orange County CA                  87  \n",
       "24136       DFW           TX                  87  \n",
       "27918       San Francisco CA                  80  \n",
       "24088       DFW           TX                  79  \n",
       "24136       San Francisco CA                  69  \n",
       "24736       San Antonio   TX                  66  "
      ]
     },
     "execution_count": 15,
     "metadata": {},
     "output_type": "execute_result"
    }
   ],
   "source": [
    "management_market_groups = mgmt_df.groupby([\"mgmt.mgmtID\", \"mgmt.market\", \"mgmt.state\"])\n",
    "management_markets = management_market_groups.first()\n",
    "management_markets[\"mgmt.count\"] = management_market_groups.size()\n",
    "print(management_markets.size)\n",
    "management_markets.sort_values([\"mgmt.count\"], ascending= False).head(20)"
   ]
  },
  {
   "cell_type": "code",
   "execution_count": 19,
   "metadata": {},
   "outputs": [
    {
     "data": {
      "text/plain": [
       "(15263, 4)"
      ]
     },
     "execution_count": 19,
     "metadata": {},
     "output_type": "execute_result"
    }
   ],
   "source": [
    "mgmt_filtered = mgmt_df[mgmt_df[\"mgmt.name\"] != \"Privately Owned and Managed\"]\n",
    "mgmt_filtered.shape"
   ]
  },
  {
   "cell_type": "code",
   "execution_count": 20,
   "metadata": {},
   "outputs": [
    {
     "data": {
      "text/plain": [
       "(3455, 4)"
      ]
     },
     "execution_count": 20,
     "metadata": {},
     "output_type": "execute_result"
    }
   ],
   "source": [
    "mgmt_filtered = mgmt_filtered.drop_duplicates([\"mgmt.mgmtID\", \"mgmt.market\", \"mgmt.state\"])\n",
    "mgmt_filtered.shape"
   ]
  },
  {
   "cell_type": "code",
   "execution_count": null,
   "metadata": {},
   "outputs": [],
   "source": []
  },
  {
   "cell_type": "code",
   "execution_count": 28,
   "metadata": {},
   "outputs": [
    {
     "data": {
      "text/html": [
       "<div>\n",
       "<style scoped>\n",
       "    .dataframe tbody tr th:only-of-type {\n",
       "        vertical-align: middle;\n",
       "    }\n",
       "\n",
       "    .dataframe tbody tr th {\n",
       "        vertical-align: top;\n",
       "    }\n",
       "\n",
       "    .dataframe thead th {\n",
       "        text-align: right;\n",
       "    }\n",
       "</style>\n",
       "<table border=\"1\" class=\"dataframe\">\n",
       "  <thead>\n",
       "    <tr style=\"text-align: right;\">\n",
       "      <th></th>\n",
       "      <th>property.propertyID</th>\n",
       "      <th>property.name</th>\n",
       "      <th>property.formerName</th>\n",
       "      <th>property.streetAddress</th>\n",
       "      <th>property.city</th>\n",
       "      <th>property.market</th>\n",
       "      <th>property.state</th>\n",
       "      <th>property.lat</th>\n",
       "      <th>property.lng</th>\n",
       "    </tr>\n",
       "  </thead>\n",
       "  <tbody>\n",
       "    <tr>\n",
       "      <th>0</th>\n",
       "      <td>85630</td>\n",
       "      <td>Curry Junction</td>\n",
       "      <td></td>\n",
       "      <td>3549 Curry Lane</td>\n",
       "      <td>Abilene</td>\n",
       "      <td>Abilene</td>\n",
       "      <td>TX</td>\n",
       "      <td>32.405355</td>\n",
       "      <td>-99.773680</td>\n",
       "    </tr>\n",
       "    <tr>\n",
       "      <th>1</th>\n",
       "      <td>85631</td>\n",
       "      <td>Riatta Ranch</td>\n",
       "      <td></td>\n",
       "      <td>1111 Musken</td>\n",
       "      <td>Abilene</td>\n",
       "      <td>Abilene</td>\n",
       "      <td>TX</td>\n",
       "      <td>32.453461</td>\n",
       "      <td>-99.704162</td>\n",
       "    </tr>\n",
       "    <tr>\n",
       "      <th>2</th>\n",
       "      <td>85633</td>\n",
       "      <td>Timber Ridge</td>\n",
       "      <td></td>\n",
       "      <td>3602 Rolling Green Drive</td>\n",
       "      <td>Abilene</td>\n",
       "      <td>Abilene</td>\n",
       "      <td>TX</td>\n",
       "      <td>32.400155</td>\n",
       "      <td>-99.769077</td>\n",
       "    </tr>\n",
       "    <tr>\n",
       "      <th>3</th>\n",
       "      <td>85678</td>\n",
       "      <td>Indian Run</td>\n",
       "      <td></td>\n",
       "      <td>3500 Cedar Run</td>\n",
       "      <td>Abilene</td>\n",
       "      <td>Abilene</td>\n",
       "      <td>TX</td>\n",
       "      <td>32.403342</td>\n",
       "      <td>-99.774376</td>\n",
       "    </tr>\n",
       "    <tr>\n",
       "      <th>4</th>\n",
       "      <td>85680</td>\n",
       "      <td>Warwick</td>\n",
       "      <td></td>\n",
       "      <td>2400 Arrowhead</td>\n",
       "      <td>Abilene</td>\n",
       "      <td>Abilene</td>\n",
       "      <td>TX</td>\n",
       "      <td>32.394751</td>\n",
       "      <td>-99.751140</td>\n",
       "    </tr>\n",
       "  </tbody>\n",
       "</table>\n",
       "</div>"
      ],
      "text/plain": [
       "   property.propertyID   property.name property.formerName  \\\n",
       "0                85630  Curry Junction                       \n",
       "1                85631    Riatta Ranch                       \n",
       "2                85633    Timber Ridge                       \n",
       "3                85678      Indian Run                       \n",
       "4                85680         Warwick                       \n",
       "\n",
       "     property.streetAddress property.city property.market property.state  \\\n",
       "0           3549 Curry Lane       Abilene         Abilene             TX   \n",
       "1               1111 Musken       Abilene         Abilene             TX   \n",
       "2  3602 Rolling Green Drive       Abilene         Abilene             TX   \n",
       "3            3500 Cedar Run       Abilene         Abilene             TX   \n",
       "4            2400 Arrowhead       Abilene         Abilene             TX   \n",
       "\n",
       "   property.lat  property.lng  \n",
       "0     32.405355    -99.773680  \n",
       "1     32.453461    -99.704162  \n",
       "2     32.400155    -99.769077  \n",
       "3     32.403342    -99.774376  \n",
       "4     32.394751    -99.751140  "
      ]
     },
     "metadata": {},
     "output_type": "display_data"
    },
    {
     "data": {
      "text/plain": [
       "(17776, 9)"
      ]
     },
     "execution_count": 28,
     "metadata": {},
     "output_type": "execute_result"
    }
   ],
   "source": [
    "display(properties_df.head(5))\n",
    "properties_df.shape"
   ]
  },
  {
   "cell_type": "code",
   "execution_count": null,
   "metadata": {},
   "outputs": [],
   "source": []
  },
  {
   "cell_type": "code",
   "execution_count": null,
   "metadata": {},
   "outputs": [],
   "source": []
  },
  {
   "cell_type": "code",
   "execution_count": null,
   "metadata": {},
   "outputs": [],
   "source": []
  },
  {
   "cell_type": "code",
   "execution_count": 35,
   "metadata": {},
   "outputs": [
    {
     "name": "stdout",
     "output_type": "stream",
     "text": [
      "(17776,)\n"
     ]
    },
    {
     "data": {
      "text/plain": [
       "property.propertyID\n",
       "70034     1\n",
       "120132    1\n",
       "120143    1\n",
       "120140    1\n",
       "120139    1\n",
       "dtype: int64"
      ]
     },
     "execution_count": 35,
     "metadata": {},
     "output_type": "execute_result"
    }
   ],
   "source": [
    "print (properties_df.value_counts(\"property.propertyID\").shape)\n",
    "properties_df.value_counts(\"property.propertyID\").head(5)"
   ]
  },
  {
   "cell_type": "code",
   "execution_count": 33,
   "metadata": {},
   "outputs": [
    {
     "name": "stdout",
     "output_type": "stream",
     "text": [
      "(15410,)\n"
     ]
    },
    {
     "data": {
      "text/plain": [
       "property.name\n",
       "Las Palmas       16\n",
       "Park Place       13\n",
       "Country Club     12\n",
       "Parkside         12\n",
       "Village Green    12\n",
       "dtype: int64"
      ]
     },
     "execution_count": 33,
     "metadata": {},
     "output_type": "execute_result"
    }
   ],
   "source": [
    "print (properties_df.value_counts(\"property.name\").shape)\n",
    "properties_df.value_counts(\"property.name\").head(5)"
   ]
  },
  {
   "cell_type": "code",
   "execution_count": 36,
   "metadata": {},
   "outputs": [
    {
     "data": {
      "text/plain": [
       "property.name                                 property.streetAddress         property.city     property.market  property.state  property.lat  property.lng\n",
       "Monterey Village                              10244 Arrow Route              Rancho Cucamonga  Inland Empire    CA              34.099400     -117.581400     2\n",
       "Lumen Grant Park                              465 Memorial Drive             Atlanta           Atlanta          GA              33.746090     -84.372110      2\n",
       "Idyll Willow                                  28032 Marguerite Pkwy          Mission Viejo     Orange County    CA              33.555050     -117.668700     2\n",
       "Eagle Glen                                    38245 Murrieta Hot Springs Rd  Murrieta          Inland Empire    CA              33.554630     -117.141200     2\n",
       "Lido Palms                                    100 Tennessee St               Redlands          Inland Empire    CA              34.052920     -117.199400     2\n",
       "Villas at Towngate                            13120 Day St                   Moreno Valley     Inland Empire    CA              33.929720     -117.278000     2\n",
       "Avana Rancho Cucamonga                        10400 Arrow Route              Rancho Cucamonga  Inland Empire    CA              34.101060     -117.578800     2\n",
       "Las Palmas                                    100 Las Palmas                 Irvine            Orange County    CA              33.724340     -117.787300     2\n",
       "The Heights at Grand Terrace                  22491 De Berry St              Grand Terrace     Inland Empire    CA              34.030140     -117.314300     2\n",
       "Ocean House on Prospect                       400 Prospect St                La Jolla          San Diego        CA              32.841960     -117.279500     2\n",
       "Crescent Heights                              40800 Sunflower Rd             Murrieta          Inland Empire    CA              33.567700     -117.202400     2\n",
       "Broadstone Balboa Park                        3288 Fifth Ave                 San Diego         San Diego        CA              32.739350     -117.160900     2\n",
       "Broadstone Coronado on the Bay                1515 2nd St                    Coronado          San Diego        CA              32.695560     -117.168100     2\n",
       "Sandcastle                                    6701 Everhart Road             Corpus Christi    Corpus Christi   TX              27.689628     -97.400022      1\n",
       "San Remy                                      3001 South Loop 289            Lubbock           Lubbock          TX              33.528210     -101.879646     1\n",
       "San Paulo                                     100 Duranzo Aisle              Irvine            Orange County    CA              33.685440     -117.822800     1\n",
       "San Pedro Apartments at Sharyland Plantation  4206 San Gabriel               Mission           Texas            TX              26.158790     -98.287600      1\n",
       "San Pedro Bank Lofts                          407 W 7th St                   San Pedro         Los Angeles      CA              33.737260     -118.286100     1\n",
       "San Pedro Commons                             101 A St                       Colma             San Francisco    CA              37.686771     -122.467964     1\n",
       "San Rafael Commons                            302 4th St                     San Rafael        San Francisco    CA              37.971931     -122.516174     1\n",
       "dtype: int64"
      ]
     },
     "execution_count": 36,
     "metadata": {},
     "output_type": "execute_result"
    }
   ],
   "source": [
    "properties_df.value_counts(['property.name','property.streetAddress', \"property.city\",\t\"property.market\",\t\"property.state\", 'property.lat','property.lng']).head(20)"
   ]
  },
  {
   "cell_type": "code",
   "execution_count": 37,
   "metadata": {},
   "outputs": [
    {
     "data": {
      "text/plain": [
       "(17763, 9)"
      ]
     },
     "execution_count": 37,
     "metadata": {},
     "output_type": "execute_result"
    }
   ],
   "source": [
    "properties_filtered = properties_df.drop_duplicates(['property.name','property.streetAddress', \"property.city\",\t\"property.market\",\t\"property.state\", 'property.lat','property.lng'])\n",
    "properties_filtered.shape"
   ]
  },
  {
   "cell_type": "code",
   "execution_count": null,
   "metadata": {},
   "outputs": [],
   "source": []
  },
  {
   "cell_type": "code",
   "execution_count": 40,
   "metadata": {},
   "outputs": [
    {
     "data": {
      "text/plain": [
       "<matplotlib.axes._subplots.AxesSubplot at 0x298fe305370>"
      ]
     },
     "execution_count": 40,
     "metadata": {},
     "output_type": "execute_result"
    },
    {
     "data": {
      "image/png": "[encoded data removed]",
      "text/plain": [
       "<Figure size 432x288 with 1 Axes>"
      ]
     },
     "metadata": {
      "needs_background": "light"
     },
     "output_type": "display_data"
    }
   ],
   "source": [
    "mgmt_df[\"mgmt.state\"].hist()"
   ]
  },
  {
   "cell_type": "code",
   "execution_count": 39,
   "metadata": {},
   "outputs": [
    {
     "data": {
      "text/plain": [
       "mgmt.state\n",
       "TX    8342\n",
       "CA    7419\n",
       "GA    2006\n",
       "dtype: int64"
      ]
     },
     "execution_count": 39,
     "metadata": {},
     "output_type": "execute_result"
    }
   ],
   "source": [
    "mgmt_df.value_counts(\"mgmt.state\")"
   ]
  },
  {
   "cell_type": "code",
   "execution_count": 43,
   "metadata": {},
   "outputs": [
    {
     "data": {
      "text/plain": [
       "<matplotlib.axes._subplots.AxesSubplot at 0x298fe3ea370>"
      ]
     },
     "execution_count": 43,
     "metadata": {},
     "output_type": "execute_result"
    },
    {
     "data": {
      "image/png": "[encoded data removed]",
      "text/plain": [
       "<Figure size 432x288 with 1 Axes>"
      ]
     },
     "metadata": {
      "needs_background": "light"
     },
     "output_type": "display_data"
    }
   ],
   "source": [
    "properties_df[\"property.state\"].hist()"
   ]
  },
  {
   "cell_type": "code",
   "execution_count": 41,
   "metadata": {},
   "outputs": [
    {
     "data": {
      "text/plain": [
       "property.state\n",
       "TX     8338\n",
       "CA     7418\n",
       "GA     2007\n",
       "TX        5\n",
       " CA       3\n",
       "C A       2\n",
       " TX       1\n",
       "GA        1\n",
       "T X       1\n",
       "dtype: int64"
      ]
     },
     "execution_count": 41,
     "metadata": {},
     "output_type": "execute_result"
    }
   ],
   "source": [
    "properties_df.value_counts(\"property.state\")"
   ]
  },
  {
   "cell_type": "code",
   "execution_count": null,
   "metadata": {},
   "outputs": [],
   "source": [
    "properties_df.groupby(['property.name','property.streetAddress']).agg(['count'])\n"
   ]
  },
  {
   "cell_type": "code",
   "execution_count": null,
   "metadata": {},
   "outputs": [],
   "source": [
    "properties_df.value_counts(['property.lat','property.lng'])"
   ]
  },
  {
   "cell_type": "code",
   "execution_count": null,
   "metadata": {},
   "outputs": [],
   "source": []
  },
  {
   "cell_type": "code",
   "execution_count": null,
   "metadata": {},
   "outputs": [],
   "source": []
  },
  {
   "cell_type": "code",
   "execution_count": null,
   "metadata": {},
   "outputs": [],
   "source": [
    "pd.set_option(\"display.max_rows\", None)"
   ]
  },
  {
   "cell_type": "code",
   "execution_count": null,
   "metadata": {},
   "outputs": [],
   "source": []
  }
 ],
 "metadata": {
  "interpreter": {
   "hash": "b3ba2566441a7c06988d0923437866b63cedc61552a5af99d1f4fb67d367b25f"
  },
  "kernelspec": {
   "display_name": "Python 3.8.3 64-bit ('base': conda)",
   "language": "python",
   "name": "python3"
  },
  "language_info": {
   "codemirror_mode": {
    "name": "ipython",
    "version": 3
   },
   "file_extension": ".py",
   "mimetype": "text/x-python",
   "name": "python",
   "nbconvert_exporter": "python",
   "pygments_lexer": "ipython3",
   "version": "3.8.3"
  },
  "orig_nbformat": 4
 },
 "nbformat": 4,
 "nbformat_minor": 2
}
